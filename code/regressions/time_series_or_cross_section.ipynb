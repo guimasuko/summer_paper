{
 "cells": [
  {
   "attachments": {},
   "cell_type": "markdown",
   "metadata": {},
   "source": [
    "$$\n",
    "r_{n, t+1}=\\bar{a}_n+\\bar{c}_n \\cdot\\left(\\frac{f_{n, t}^{\\mathrm{Bmk}}-\\bar{m}_n^{\\mathrm{Bmk}}}{\\bar{s}_n^{\\mathrm{Bmk}}}\\right)+e_{n, t+1} \n",
    "$$"
   ]
  },
  {
   "attachments": {},
   "cell_type": "markdown",
   "metadata": {},
   "source": [
    "Podemos ter duas abordagens econometricas na hora de analisar o out-of-sample fit. A primeira abordagem se dá na Time-Series dos dados, isso é, podemos regredir para cada ativo $n$, a time-series obtendo um $\\bar{R}^2$ para cada ativo. A segunda abordagem é no Cross-Section dos dados, i.e. regredindo para cada $t$ a regressão no cross-section obtendo um $bar{R}^2$ para cada minuto."
   ]
  },
  {
   "attachments": {},
   "cell_type": "markdown",
   "metadata": {},
   "source": [
    "### Time-Series"
   ]
  },
  {
   "cell_type": "code",
   "execution_count": 73,
   "metadata": {},
   "outputs": [],
   "source": [
    "# pacotes\n",
    "import numpy as np\n",
    "import pandas as pd\n",
    "import statsmodels.formula.api as sm"
   ]
  },
  {
   "cell_type": "code",
   "execution_count": 74,
   "metadata": {},
   "outputs": [],
   "source": [
    "# oculta mensagens de avisos\n",
    "import warnings\n",
    "warnings.filterwarnings(\"ignore\")"
   ]
  },
  {
   "cell_type": "code",
   "execution_count": 75,
   "metadata": {},
   "outputs": [],
   "source": [
    "f_bmk = pd.read_csv('../../output/data/20030102_f_bmk.csv', index_col=0)"
   ]
  },
  {
   "cell_type": "code",
   "execution_count": 76,
   "metadata": {},
   "outputs": [],
   "source": [
    "# padronização\n",
    "f_bmk = ( f_bmk - f_bmk.mean() ) / f_bmk.std()"
   ]
  },
  {
   "cell_type": "code",
   "execution_count": 77,
   "metadata": {},
   "outputs": [],
   "source": [
    "y = pd.read_csv('../../output/data/20030102_y.csv', index_col=0)"
   ]
  },
  {
   "cell_type": "code",
   "execution_count": 78,
   "metadata": {},
   "outputs": [],
   "source": [
    "# também para o índice que começa a partir das 10:04 e termina em 15:59\n",
    "y = y.loc[100400:155900]"
   ]
  },
  {
   "cell_type": "code",
   "execution_count": 79,
   "metadata": {},
   "outputs": [],
   "source": [
    "def adjusted_Rsquared(result):\n",
    "    r2 = result.rsquared\n",
    "    n = len(y)\n",
    "    k = len(result.params) - 1\n",
    "    ar2 = 1 - ( 1 - r2) * ( ( n - 1) / ( n - k ) )\n",
    "    return ar2"
   ]
  },
  {
   "cell_type": "code",
   "execution_count": 80,
   "metadata": {},
   "outputs": [],
   "source": [
    "bmk_timeseries = pd.DataFrame(columns=['Adj. R-Squared', 'a', 'c'], index=y.columns)"
   ]
  },
  {
   "cell_type": "code",
   "execution_count": 81,
   "metadata": {},
   "outputs": [],
   "source": [
    "ols = pd.DataFrame()"
   ]
  },
  {
   "cell_type": "code",
   "execution_count": 82,
   "metadata": {},
   "outputs": [],
   "source": [
    "for col in f_bmk.columns:\n",
    "    ols['y'] = y[col]\n",
    "    ols['x'] = f_bmk[col]\n",
    "    result = sm.ols(formula=\"y ~ x\", data=ols).fit()\n",
    "    bmk_timeseries.at[col, 'a'] = result.params[0]\n",
    "    bmk_timeseries.at[col, 'c'] = result.params[1]\n",
    "    bmk_timeseries.at[col, 'Adj. R-Squared'] = adjusted_Rsquared(result)"
   ]
  },
  {
   "cell_type": "code",
   "execution_count": 83,
   "metadata": {},
   "outputs": [
    {
     "data": {
      "text/html": [
       "<div>\n",
       "<style scoped>\n",
       "    .dataframe tbody tr th:only-of-type {\n",
       "        vertical-align: middle;\n",
       "    }\n",
       "\n",
       "    .dataframe tbody tr th {\n",
       "        vertical-align: top;\n",
       "    }\n",
       "\n",
       "    .dataframe thead th {\n",
       "        text-align: right;\n",
       "    }\n",
       "</style>\n",
       "<table border=\"1\" class=\"dataframe\">\n",
       "  <thead>\n",
       "    <tr style=\"text-align: right;\">\n",
       "      <th></th>\n",
       "      <th>Adj. R-Squared</th>\n",
       "      <th>a</th>\n",
       "      <th>c</th>\n",
       "    </tr>\n",
       "  </thead>\n",
       "  <tbody>\n",
       "    <tr>\n",
       "      <th>FITB(t)</th>\n",
       "      <td>0.004352</td>\n",
       "      <td>0.000029</td>\n",
       "      <td>0.000049</td>\n",
       "    </tr>\n",
       "    <tr>\n",
       "      <th>AGN(t)</th>\n",
       "      <td>0.003372</td>\n",
       "      <td>0.000032</td>\n",
       "      <td>0.000033</td>\n",
       "    </tr>\n",
       "    <tr>\n",
       "      <th>ZBRA(t)</th>\n",
       "      <td>0.001261</td>\n",
       "      <td>0.00004</td>\n",
       "      <td>-0.000034</td>\n",
       "    </tr>\n",
       "    <tr>\n",
       "      <th>ADBE(t)</th>\n",
       "      <td>0.001346</td>\n",
       "      <td>0.000048</td>\n",
       "      <td>-0.000056</td>\n",
       "    </tr>\n",
       "    <tr>\n",
       "      <th>CKFR(t)</th>\n",
       "      <td>0.00432</td>\n",
       "      <td>0.000149</td>\n",
       "      <td>0.000124</td>\n",
       "    </tr>\n",
       "    <tr>\n",
       "      <th>...</th>\n",
       "      <td>...</td>\n",
       "      <td>...</td>\n",
       "      <td>...</td>\n",
       "    </tr>\n",
       "    <tr>\n",
       "      <th>FRX(t)</th>\n",
       "      <td>0.006518</td>\n",
       "      <td>0.000028</td>\n",
       "      <td>0.000048</td>\n",
       "    </tr>\n",
       "    <tr>\n",
       "      <th>OSIP(t)</th>\n",
       "      <td>0.002817</td>\n",
       "      <td>0.000073</td>\n",
       "      <td>-0.000093</td>\n",
       "    </tr>\n",
       "    <tr>\n",
       "      <th>SAFC(t)</th>\n",
       "      <td>0.010825</td>\n",
       "      <td>0.000058</td>\n",
       "      <td>0.000085</td>\n",
       "    </tr>\n",
       "    <tr>\n",
       "      <th>YUM(t)</th>\n",
       "      <td>0.000017</td>\n",
       "      <td>0.000049</td>\n",
       "      <td>-0.000005</td>\n",
       "    </tr>\n",
       "    <tr>\n",
       "      <th>AT(t)</th>\n",
       "      <td>0.000075</td>\n",
       "      <td>0.000082</td>\n",
       "      <td>-0.000006</td>\n",
       "    </tr>\n",
       "  </tbody>\n",
       "</table>\n",
       "<p>250 rows × 3 columns</p>\n",
       "</div>"
      ],
      "text/plain": [
       "        Adj. R-Squared         a         c\n",
       "FITB(t)       0.004352  0.000029  0.000049\n",
       "AGN(t)        0.003372  0.000032  0.000033\n",
       "ZBRA(t)       0.001261   0.00004 -0.000034\n",
       "ADBE(t)       0.001346  0.000048 -0.000056\n",
       "CKFR(t)        0.00432  0.000149  0.000124\n",
       "...                ...       ...       ...\n",
       "FRX(t)        0.006518  0.000028  0.000048\n",
       "OSIP(t)       0.002817  0.000073 -0.000093\n",
       "SAFC(t)       0.010825  0.000058  0.000085\n",
       "YUM(t)        0.000017  0.000049 -0.000005\n",
       "AT(t)         0.000075  0.000082 -0.000006\n",
       "\n",
       "[250 rows x 3 columns]"
      ]
     },
     "execution_count": 83,
     "metadata": {},
     "output_type": "execute_result"
    }
   ],
   "source": [
    "bmk_timeseries"
   ]
  },
  {
   "cell_type": "code",
   "execution_count": 84,
   "metadata": {},
   "outputs": [
    {
     "data": {
      "text/plain": [
       "0.008151051692000163"
      ]
     },
     "execution_count": 84,
     "metadata": {},
     "output_type": "execute_result"
    }
   ],
   "source": [
    "bmk_timeseries['Adj. R-Squared'].mean()"
   ]
  },
  {
   "attachments": {},
   "cell_type": "markdown",
   "metadata": {},
   "source": [
    "### Cross-Section"
   ]
  },
  {
   "cell_type": "code",
   "execution_count": 85,
   "metadata": {},
   "outputs": [],
   "source": [
    "bmk_crosssection = pd.DataFrame(columns=['Adj. R-Squared', 'a', 'c'], index=y.index)"
   ]
  },
  {
   "cell_type": "code",
   "execution_count": 86,
   "metadata": {},
   "outputs": [],
   "source": [
    "ols = pd.DataFrame()"
   ]
  },
  {
   "cell_type": "code",
   "execution_count": 87,
   "metadata": {},
   "outputs": [],
   "source": [
    "for index in f_bmk.index:\n",
    "    ols['y'] = y.loc[index]\n",
    "    ols['x'] = f_bmk.loc[index]\n",
    "    result = sm.ols(formula=\"y ~ x\", data=ols).fit()\n",
    "    bmk_crosssection.at[index, 'a'] = result.params[0]\n",
    "    bmk_crosssection.at[index, 'c'] = result.params[1]\n",
    "    bmk_crosssection.at[index, 'Adj. R-Squared'] = adjusted_Rsquared(result)"
   ]
  },
  {
   "cell_type": "code",
   "execution_count": 88,
   "metadata": {},
   "outputs": [
    {
     "data": {
      "text/html": [
       "<div>\n",
       "<style scoped>\n",
       "    .dataframe tbody tr th:only-of-type {\n",
       "        vertical-align: middle;\n",
       "    }\n",
       "\n",
       "    .dataframe tbody tr th {\n",
       "        vertical-align: top;\n",
       "    }\n",
       "\n",
       "    .dataframe thead th {\n",
       "        text-align: right;\n",
       "    }\n",
       "</style>\n",
       "<table border=\"1\" class=\"dataframe\">\n",
       "  <thead>\n",
       "    <tr style=\"text-align: right;\">\n",
       "      <th></th>\n",
       "      <th>Adj. R-Squared</th>\n",
       "      <th>a</th>\n",
       "      <th>c</th>\n",
       "    </tr>\n",
       "    <tr>\n",
       "      <th>Time</th>\n",
       "      <th></th>\n",
       "      <th></th>\n",
       "      <th></th>\n",
       "    </tr>\n",
       "  </thead>\n",
       "  <tbody>\n",
       "    <tr>\n",
       "      <th>100400</th>\n",
       "      <td>0.001191</td>\n",
       "      <td>0.000377</td>\n",
       "      <td>-0.000034</td>\n",
       "    </tr>\n",
       "    <tr>\n",
       "      <th>100500</th>\n",
       "      <td>0.004683</td>\n",
       "      <td>0.000445</td>\n",
       "      <td>-0.000058</td>\n",
       "    </tr>\n",
       "    <tr>\n",
       "      <th>100600</th>\n",
       "      <td>0.000251</td>\n",
       "      <td>-0.000181</td>\n",
       "      <td>-0.000015</td>\n",
       "    </tr>\n",
       "    <tr>\n",
       "      <th>100700</th>\n",
       "      <td>0.004242</td>\n",
       "      <td>-0.000146</td>\n",
       "      <td>-0.000084</td>\n",
       "    </tr>\n",
       "    <tr>\n",
       "      <th>100800</th>\n",
       "      <td>0.002772</td>\n",
       "      <td>0.001213</td>\n",
       "      <td>0.00008</td>\n",
       "    </tr>\n",
       "    <tr>\n",
       "      <th>...</th>\n",
       "      <td>...</td>\n",
       "      <td>...</td>\n",
       "      <td>...</td>\n",
       "    </tr>\n",
       "    <tr>\n",
       "      <th>155500</th>\n",
       "      <td>0.004749</td>\n",
       "      <td>-0.000086</td>\n",
       "      <td>0.000111</td>\n",
       "    </tr>\n",
       "    <tr>\n",
       "      <th>155600</th>\n",
       "      <td>0.00042</td>\n",
       "      <td>0.000073</td>\n",
       "      <td>-0.000033</td>\n",
       "    </tr>\n",
       "    <tr>\n",
       "      <th>155700</th>\n",
       "      <td>0.001264</td>\n",
       "      <td>-0.000034</td>\n",
       "      <td>0.000052</td>\n",
       "    </tr>\n",
       "    <tr>\n",
       "      <th>155800</th>\n",
       "      <td>0.004339</td>\n",
       "      <td>-0.000063</td>\n",
       "      <td>-0.000115</td>\n",
       "    </tr>\n",
       "    <tr>\n",
       "      <th>155900</th>\n",
       "      <td>0.006256</td>\n",
       "      <td>-0.000089</td>\n",
       "      <td>-0.000103</td>\n",
       "    </tr>\n",
       "  </tbody>\n",
       "</table>\n",
       "<p>356 rows × 3 columns</p>\n",
       "</div>"
      ],
      "text/plain": [
       "       Adj. R-Squared         a         c\n",
       "Time                                     \n",
       "100400       0.001191  0.000377 -0.000034\n",
       "100500       0.004683  0.000445 -0.000058\n",
       "100600       0.000251 -0.000181 -0.000015\n",
       "100700       0.004242 -0.000146 -0.000084\n",
       "100800       0.002772  0.001213   0.00008\n",
       "...               ...       ...       ...\n",
       "155500       0.004749 -0.000086  0.000111\n",
       "155600        0.00042  0.000073 -0.000033\n",
       "155700       0.001264 -0.000034  0.000052\n",
       "155800       0.004339 -0.000063 -0.000115\n",
       "155900       0.006256 -0.000089 -0.000103\n",
       "\n",
       "[356 rows x 3 columns]"
      ]
     },
     "execution_count": 88,
     "metadata": {},
     "output_type": "execute_result"
    }
   ],
   "source": [
    "bmk_crosssection"
   ]
  },
  {
   "cell_type": "code",
   "execution_count": 89,
   "metadata": {},
   "outputs": [
    {
     "data": {
      "text/plain": [
       "0.008938459746264506"
      ]
     },
     "execution_count": 89,
     "metadata": {},
     "output_type": "execute_result"
    }
   ],
   "source": [
    "bmk_crosssection['Adj. R-Squared'].mean()"
   ]
  }
 ],
 "metadata": {
  "kernelspec": {
   "display_name": "Python 3",
   "language": "python",
   "name": "python3"
  },
  "language_info": {
   "codemirror_mode": {
    "name": "ipython",
    "version": 3
   },
   "file_extension": ".py",
   "mimetype": "text/x-python",
   "name": "python",
   "nbconvert_exporter": "python",
   "pygments_lexer": "ipython3",
   "version": "3.10.2"
  },
  "orig_nbformat": 4,
  "vscode": {
   "interpreter": {
    "hash": "c63d8c7d738c2960218a10995aedf0a7f67a49a231e71037adf0440953cdb45b"
   }
  }
 },
 "nbformat": 4,
 "nbformat_minor": 2
}
