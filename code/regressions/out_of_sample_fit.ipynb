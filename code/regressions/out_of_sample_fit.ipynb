{
 "cells": [
  {
   "cell_type": "code",
   "execution_count": 1,
   "metadata": {},
   "outputs": [],
   "source": [
    "# pacotes\n",
    "import numpy as np\n",
    "import pandas as pd\n",
    "import statsmodels.formula.api as sm"
   ]
  },
  {
   "cell_type": "code",
   "execution_count": 2,
   "metadata": {},
   "outputs": [],
   "source": [
    "# oculta mensagens de avisos\n",
    "import warnings\n",
    "warnings.filterwarnings(\"ignore\")"
   ]
  },
  {
   "cell_type": "code",
   "execution_count": 3,
   "metadata": {},
   "outputs": [],
   "source": [
    "f_lasso = pd.read_csv('../../output/data/20030102_f_lasso.csv', index_col=0)"
   ]
  },
  {
   "cell_type": "code",
   "execution_count": 4,
   "metadata": {},
   "outputs": [],
   "source": [
    "f_bmk = pd.read_csv('../../output/data/20030102_f_bmk.csv', index_col=0)"
   ]
  },
  {
   "cell_type": "code",
   "execution_count": 5,
   "metadata": {},
   "outputs": [],
   "source": [
    "y = pd.read_csv('../../output/data/20030102_y.csv', index_col=0)"
   ]
  },
  {
   "attachments": {},
   "cell_type": "markdown",
   "metadata": {},
   "source": [
    "\n",
    "$$\n",
    "r_{n, t+1}=\\bar{a}_n+\\bar{b}_n \\cdot\\left(\\frac{f_{n, t}^{\\text {LASSO }}-\\bar{m}_n^{\\text {LASSO }}}{s_n^{\\text {LASSO }}}\\right)+e_{n, t+1}\n",
    "$$"
   ]
  },
  {
   "cell_type": "code",
   "execution_count": 6,
   "metadata": {},
   "outputs": [],
   "source": [
    "# padronização\n",
    "f_lasso = (f_lasso - f_lasso.mean()) / f_lasso.std()"
   ]
  },
  {
   "cell_type": "code",
   "execution_count": 7,
   "metadata": {},
   "outputs": [],
   "source": [
    "# não conseguimos estimar todos ativos, então vamos deixar apenas os que tiveram suas previsões estimadas\n",
    "f_lasso = f_lasso.dropna(axis=1)"
   ]
  },
  {
   "cell_type": "code",
   "execution_count": 8,
   "metadata": {},
   "outputs": [],
   "source": [
    "# mesma coisa para as ações\n",
    "y = y[f_lasso.columns]"
   ]
  },
  {
   "cell_type": "code",
   "execution_count": 9,
   "metadata": {},
   "outputs": [],
   "source": [
    "# também para o índice que começa a partir das 10:04 e termina em 15:59\n",
    "y = y.loc[100400:155900]"
   ]
  },
  {
   "cell_type": "code",
   "execution_count": 10,
   "metadata": {},
   "outputs": [],
   "source": [
    "rsquared_lasso = pd.DataFrame(columns=['Adj. R-Squared', 'a', 'b'], index=y.columns)"
   ]
  },
  {
   "cell_type": "code",
   "execution_count": 11,
   "metadata": {},
   "outputs": [],
   "source": [
    "ols = pd.DataFrame()"
   ]
  },
  {
   "cell_type": "code",
   "execution_count": 12,
   "metadata": {},
   "outputs": [],
   "source": [
    "for col in f_lasso.columns:\n",
    "    ols['y'] = y[col]\n",
    "    ols['x'] = f_lasso[col]\n",
    "    result = sm.ols(formula=\"y ~ x\", data=ols).fit()\n",
    "    rsquared_lasso.at[col, 'Adj. R-Squared'] = result.rsquared_adj\n",
    "    rsquared_lasso.at[col, 'a'] = result.params[0]\n",
    "    rsquared_lasso.at[col, 'b'] = result.params[1]"
   ]
  },
  {
   "cell_type": "code",
   "execution_count": 13,
   "metadata": {},
   "outputs": [
    {
     "data": {
      "text/html": [
       "<div>\n",
       "<style scoped>\n",
       "    .dataframe tbody tr th:only-of-type {\n",
       "        vertical-align: middle;\n",
       "    }\n",
       "\n",
       "    .dataframe tbody tr th {\n",
       "        vertical-align: top;\n",
       "    }\n",
       "\n",
       "    .dataframe thead th {\n",
       "        text-align: right;\n",
       "    }\n",
       "</style>\n",
       "<table border=\"1\" class=\"dataframe\">\n",
       "  <thead>\n",
       "    <tr style=\"text-align: right;\">\n",
       "      <th></th>\n",
       "      <th>Adj. R-Squared</th>\n",
       "      <th>a</th>\n",
       "      <th>b</th>\n",
       "    </tr>\n",
       "  </thead>\n",
       "  <tbody>\n",
       "    <tr>\n",
       "      <th>FITB(t)</th>\n",
       "      <td>0.002949</td>\n",
       "      <td>0.000029</td>\n",
       "      <td>0.000056</td>\n",
       "    </tr>\n",
       "    <tr>\n",
       "      <th>AGN(t)</th>\n",
       "      <td>-0.002414</td>\n",
       "      <td>0.000032</td>\n",
       "      <td>0.000011</td>\n",
       "    </tr>\n",
       "    <tr>\n",
       "      <th>ZBRA(t)</th>\n",
       "      <td>-0.002788</td>\n",
       "      <td>0.00004</td>\n",
       "      <td>-0.000006</td>\n",
       "    </tr>\n",
       "    <tr>\n",
       "      <th>ADBE(t)</th>\n",
       "      <td>-0.000545</td>\n",
       "      <td>0.000048</td>\n",
       "      <td>0.000072</td>\n",
       "    </tr>\n",
       "    <tr>\n",
       "      <th>CKFR(t)</th>\n",
       "      <td>0.005305</td>\n",
       "      <td>0.000149</td>\n",
       "      <td>-0.00017</td>\n",
       "    </tr>\n",
       "    <tr>\n",
       "      <th>MEDI(t)</th>\n",
       "      <td>0.001135</td>\n",
       "      <td>0.000067</td>\n",
       "      <td>0.000078</td>\n",
       "    </tr>\n",
       "    <tr>\n",
       "      <th>TXT(t)</th>\n",
       "      <td>0.013634</td>\n",
       "      <td>0.000079</td>\n",
       "      <td>0.000113</td>\n",
       "    </tr>\n",
       "    <tr>\n",
       "      <th>CMCSA(t)</th>\n",
       "      <td>-0.000957</td>\n",
       "      <td>0.000038</td>\n",
       "      <td>-0.000056</td>\n",
       "    </tr>\n",
       "    <tr>\n",
       "      <th>HON(t)</th>\n",
       "      <td>0.012695</td>\n",
       "      <td>0.000062</td>\n",
       "      <td>0.000187</td>\n",
       "    </tr>\n",
       "    <tr>\n",
       "      <th>SCH(t)</th>\n",
       "      <td>0.008707</td>\n",
       "      <td>0.000107</td>\n",
       "      <td>-0.000145</td>\n",
       "    </tr>\n",
       "    <tr>\n",
       "      <th>PDCO(t)</th>\n",
       "      <td>-0.002222</td>\n",
       "      <td>0.000029</td>\n",
       "      <td>0.00002</td>\n",
       "    </tr>\n",
       "    <tr>\n",
       "      <th>GDW(t)</th>\n",
       "      <td>0.015997</td>\n",
       "      <td>0.000043</td>\n",
       "      <td>0.000084</td>\n",
       "    </tr>\n",
       "    <tr>\n",
       "      <th>PHA(t)</th>\n",
       "      <td>-0.000027</td>\n",
       "      <td>0.000072</td>\n",
       "      <td>-0.000038</td>\n",
       "    </tr>\n",
       "    <tr>\n",
       "      <th>LXK(t)</th>\n",
       "      <td>0.01425</td>\n",
       "      <td>0.00012</td>\n",
       "      <td>0.000123</td>\n",
       "    </tr>\n",
       "    <tr>\n",
       "      <th>FISV(t)</th>\n",
       "      <td>0.002449</td>\n",
       "      <td>0.0001</td>\n",
       "      <td>0.000072</td>\n",
       "    </tr>\n",
       "    <tr>\n",
       "      <th>CTSH(t)</th>\n",
       "      <td>-0.002795</td>\n",
       "      <td>0.000044</td>\n",
       "      <td>-0.000006</td>\n",
       "    </tr>\n",
       "    <tr>\n",
       "      <th>GCI(t)</th>\n",
       "      <td>0.002291</td>\n",
       "      <td>0.000057</td>\n",
       "      <td>-0.000052</td>\n",
       "    </tr>\n",
       "  </tbody>\n",
       "</table>\n",
       "</div>"
      ],
      "text/plain": [
       "         Adj. R-Squared         a         b\n",
       "FITB(t)        0.002949  0.000029  0.000056\n",
       "AGN(t)        -0.002414  0.000032  0.000011\n",
       "ZBRA(t)       -0.002788   0.00004 -0.000006\n",
       "ADBE(t)       -0.000545  0.000048  0.000072\n",
       "CKFR(t)        0.005305  0.000149  -0.00017\n",
       "MEDI(t)        0.001135  0.000067  0.000078\n",
       "TXT(t)         0.013634  0.000079  0.000113\n",
       "CMCSA(t)      -0.000957  0.000038 -0.000056\n",
       "HON(t)         0.012695  0.000062  0.000187\n",
       "SCH(t)         0.008707  0.000107 -0.000145\n",
       "PDCO(t)       -0.002222  0.000029   0.00002\n",
       "GDW(t)         0.015997  0.000043  0.000084\n",
       "PHA(t)        -0.000027  0.000072 -0.000038\n",
       "LXK(t)          0.01425   0.00012  0.000123\n",
       "FISV(t)        0.002449    0.0001  0.000072\n",
       "CTSH(t)       -0.002795  0.000044 -0.000006\n",
       "GCI(t)         0.002291  0.000057 -0.000052"
      ]
     },
     "execution_count": 13,
     "metadata": {},
     "output_type": "execute_result"
    }
   ],
   "source": [
    "rsquared_lasso"
   ]
  },
  {
   "cell_type": "code",
   "execution_count": 14,
   "metadata": {},
   "outputs": [
    {
     "data": {
      "text/plain": [
       "0.003980107980533139"
      ]
     },
     "execution_count": 14,
     "metadata": {},
     "output_type": "execute_result"
    }
   ],
   "source": [
    "rsquared_lasso['Adj. R-Squared'].mean()"
   ]
  },
  {
   "attachments": {},
   "cell_type": "markdown",
   "metadata": {},
   "source": [
    "$$\n",
    "r_{n, t+1}=\\bar{a}_n+\\bar{c}_n \\cdot\\left(\\frac{f_{n, t}^{\\mathrm{Bmk}}-\\bar{m}_n^{\\mathrm{Bmk}}}{\\bar{s}_n^{\\mathrm{Bmk}}}\\right)+e_{n, t+1} \n",
    "$$"
   ]
  },
  {
   "cell_type": "code",
   "execution_count": 15,
   "metadata": {},
   "outputs": [],
   "source": [
    "# padronização\n",
    "f_bmk = ( f_bmk - f_bmk.mean() ) / f_bmk.std()"
   ]
  },
  {
   "cell_type": "code",
   "execution_count": 16,
   "metadata": {},
   "outputs": [],
   "source": [
    "# mesma coisa para as ações\n",
    "f_bmk = f_bmk[f_lasso.columns]"
   ]
  },
  {
   "cell_type": "code",
   "execution_count": 17,
   "metadata": {},
   "outputs": [],
   "source": [
    "rsquared_bmk = pd.DataFrame(columns=['Adj. R-Squared', 'a', 'c'], index=y.columns)"
   ]
  },
  {
   "cell_type": "code",
   "execution_count": 18,
   "metadata": {},
   "outputs": [],
   "source": [
    "for col in f_bmk.columns:\n",
    "    ols['y'] = y[col]\n",
    "    ols['x'] = f_bmk[col]\n",
    "    result = sm.ols(formula=\"y ~ x\", data=ols).fit()\n",
    "    rsquared_bmk.at[col, 'Adj. R-Squared'] = result.rsquared_adj\n",
    "    rsquared_bmk.at[col, 'a'] = result.params[0]\n",
    "    rsquared_bmk.at[col, 'c'] = result.params[1]"
   ]
  },
  {
   "cell_type": "code",
   "execution_count": 19,
   "metadata": {},
   "outputs": [
    {
     "data": {
      "text/html": [
       "<div>\n",
       "<style scoped>\n",
       "    .dataframe tbody tr th:only-of-type {\n",
       "        vertical-align: middle;\n",
       "    }\n",
       "\n",
       "    .dataframe tbody tr th {\n",
       "        vertical-align: top;\n",
       "    }\n",
       "\n",
       "    .dataframe thead th {\n",
       "        text-align: right;\n",
       "    }\n",
       "</style>\n",
       "<table border=\"1\" class=\"dataframe\">\n",
       "  <thead>\n",
       "    <tr style=\"text-align: right;\">\n",
       "      <th></th>\n",
       "      <th>Adj. R-Squared</th>\n",
       "      <th>a</th>\n",
       "      <th>c</th>\n",
       "    </tr>\n",
       "  </thead>\n",
       "  <tbody>\n",
       "    <tr>\n",
       "      <th>FITB(t)</th>\n",
       "      <td>0.00154</td>\n",
       "      <td>0.000029</td>\n",
       "      <td>0.000049</td>\n",
       "    </tr>\n",
       "    <tr>\n",
       "      <th>AGN(t)</th>\n",
       "      <td>0.000557</td>\n",
       "      <td>0.000032</td>\n",
       "      <td>0.000033</td>\n",
       "    </tr>\n",
       "    <tr>\n",
       "      <th>ZBRA(t)</th>\n",
       "      <td>-0.001561</td>\n",
       "      <td>0.00004</td>\n",
       "      <td>-0.000034</td>\n",
       "    </tr>\n",
       "    <tr>\n",
       "      <th>ADBE(t)</th>\n",
       "      <td>-0.001475</td>\n",
       "      <td>0.000048</td>\n",
       "      <td>-0.000056</td>\n",
       "    </tr>\n",
       "    <tr>\n",
       "      <th>CKFR(t)</th>\n",
       "      <td>0.001507</td>\n",
       "      <td>0.000149</td>\n",
       "      <td>0.000124</td>\n",
       "    </tr>\n",
       "    <tr>\n",
       "      <th>MEDI(t)</th>\n",
       "      <td>0.00907</td>\n",
       "      <td>0.000067</td>\n",
       "      <td>0.000134</td>\n",
       "    </tr>\n",
       "    <tr>\n",
       "      <th>TXT(t)</th>\n",
       "      <td>0.010367</td>\n",
       "      <td>0.000079</td>\n",
       "      <td>-0.000101</td>\n",
       "    </tr>\n",
       "    <tr>\n",
       "      <th>CMCSA(t)</th>\n",
       "      <td>-0.001719</td>\n",
       "      <td>0.000038</td>\n",
       "      <td>0.000043</td>\n",
       "    </tr>\n",
       "    <tr>\n",
       "      <th>HON(t)</th>\n",
       "      <td>-0.000291</td>\n",
       "      <td>0.000062</td>\n",
       "      <td>0.000075</td>\n",
       "    </tr>\n",
       "    <tr>\n",
       "      <th>SCH(t)</th>\n",
       "      <td>0.000439</td>\n",
       "      <td>0.000107</td>\n",
       "      <td>0.000077</td>\n",
       "    </tr>\n",
       "    <tr>\n",
       "      <th>PDCO(t)</th>\n",
       "      <td>-0.001046</td>\n",
       "      <td>0.000029</td>\n",
       "      <td>-0.000034</td>\n",
       "    </tr>\n",
       "    <tr>\n",
       "      <th>GDW(t)</th>\n",
       "      <td>-0.002491</td>\n",
       "      <td>0.000043</td>\n",
       "      <td>-0.000011</td>\n",
       "    </tr>\n",
       "    <tr>\n",
       "      <th>PHA(t)</th>\n",
       "      <td>0.006618</td>\n",
       "      <td>0.000072</td>\n",
       "      <td>-0.00007</td>\n",
       "    </tr>\n",
       "    <tr>\n",
       "      <th>LXK(t)</th>\n",
       "      <td>0.002564</td>\n",
       "      <td>0.00012</td>\n",
       "      <td>0.000069</td>\n",
       "    </tr>\n",
       "    <tr>\n",
       "      <th>FISV(t)</th>\n",
       "      <td>0.004395</td>\n",
       "      <td>0.0001</td>\n",
       "      <td>0.000084</td>\n",
       "    </tr>\n",
       "    <tr>\n",
       "      <th>CTSH(t)</th>\n",
       "      <td>0.026362</td>\n",
       "      <td>0.000044</td>\n",
       "      <td>0.000184</td>\n",
       "    </tr>\n",
       "    <tr>\n",
       "      <th>GCI(t)</th>\n",
       "      <td>-0.002062</td>\n",
       "      <td>0.000057</td>\n",
       "      <td>0.00002</td>\n",
       "    </tr>\n",
       "  </tbody>\n",
       "</table>\n",
       "</div>"
      ],
      "text/plain": [
       "         Adj. R-Squared         a         c\n",
       "FITB(t)         0.00154  0.000029  0.000049\n",
       "AGN(t)         0.000557  0.000032  0.000033\n",
       "ZBRA(t)       -0.001561   0.00004 -0.000034\n",
       "ADBE(t)       -0.001475  0.000048 -0.000056\n",
       "CKFR(t)        0.001507  0.000149  0.000124\n",
       "MEDI(t)         0.00907  0.000067  0.000134\n",
       "TXT(t)         0.010367  0.000079 -0.000101\n",
       "CMCSA(t)      -0.001719  0.000038  0.000043\n",
       "HON(t)        -0.000291  0.000062  0.000075\n",
       "SCH(t)         0.000439  0.000107  0.000077\n",
       "PDCO(t)       -0.001046  0.000029 -0.000034\n",
       "GDW(t)        -0.002491  0.000043 -0.000011\n",
       "PHA(t)         0.006618  0.000072  -0.00007\n",
       "LXK(t)         0.002564   0.00012  0.000069\n",
       "FISV(t)        0.004395    0.0001  0.000084\n",
       "CTSH(t)        0.026362  0.000044  0.000184\n",
       "GCI(t)        -0.002062  0.000057   0.00002"
      ]
     },
     "execution_count": 19,
     "metadata": {},
     "output_type": "execute_result"
    }
   ],
   "source": [
    "rsquared_bmk"
   ]
  },
  {
   "cell_type": "code",
   "execution_count": 20,
   "metadata": {},
   "outputs": [
    {
     "data": {
      "text/plain": [
       "0.0031043900154227116"
      ]
     },
     "execution_count": 20,
     "metadata": {},
     "output_type": "execute_result"
    }
   ],
   "source": [
    "rsquared_bmk['Adj. R-Squared'].mean()"
   ]
  },
  {
   "attachments": {},
   "cell_type": "markdown",
   "metadata": {},
   "source": [
    "$$\n",
    "r_{n, t+1}=\\bar{a}_n+\\bar{b}_n \\cdot\\left(\\frac{f_{n, t}^{\\mathrm{L} A S S O}-\\bar{m}_n^{\\mathrm{LASSO}}}{\\bar{s}_n^{\\mathrm{LASSO}}}\\right)+\\bar{c}_n \\cdot\\left(\\frac{f_{n, t}^{\\mathrm{Bmk}}-\\bar{m}_n^{\\mathrm{Bmkk}}}{\\bar{B}_n^{\\mathrm{Bmk}}}\\right)+e_{n, t+1}\n",
    "$$"
   ]
  },
  {
   "cell_type": "code",
   "execution_count": 21,
   "metadata": {},
   "outputs": [],
   "source": [
    "rsquared_both = pd.DataFrame(columns=['Adj. R-Squared', 'a', 'b', 'c'], index=y.columns)"
   ]
  },
  {
   "cell_type": "code",
   "execution_count": 22,
   "metadata": {},
   "outputs": [],
   "source": [
    "for col in f_bmk.columns:\n",
    "    ols['y'] = y[col]\n",
    "    ols['x1'] = f_lasso[col]\n",
    "    ols['x2'] = f_bmk[col]\n",
    "    result = sm.ols(formula=\"y ~ x1 + x2\", data=ols).fit()\n",
    "    rsquared_both.at[col, 'Adj. R-Squared'] = result.rsquared_adj\n",
    "    rsquared_both.at[col, 'a'] = result.params[0]\n",
    "    rsquared_both.at[col, 'b'] = result.params[1]\n",
    "    rsquared_both.at[col, 'c'] = result.params[2]"
   ]
  },
  {
   "cell_type": "code",
   "execution_count": 23,
   "metadata": {},
   "outputs": [
    {
     "data": {
      "text/html": [
       "<div>\n",
       "<style scoped>\n",
       "    .dataframe tbody tr th:only-of-type {\n",
       "        vertical-align: middle;\n",
       "    }\n",
       "\n",
       "    .dataframe tbody tr th {\n",
       "        vertical-align: top;\n",
       "    }\n",
       "\n",
       "    .dataframe thead th {\n",
       "        text-align: right;\n",
       "    }\n",
       "</style>\n",
       "<table border=\"1\" class=\"dataframe\">\n",
       "  <thead>\n",
       "    <tr style=\"text-align: right;\">\n",
       "      <th></th>\n",
       "      <th>Adj. R-Squared</th>\n",
       "      <th>a</th>\n",
       "      <th>b</th>\n",
       "      <th>c</th>\n",
       "    </tr>\n",
       "  </thead>\n",
       "  <tbody>\n",
       "    <tr>\n",
       "      <th>FITB(t)</th>\n",
       "      <td>0.003115</td>\n",
       "      <td>0.000029</td>\n",
       "      <td>0.000049</td>\n",
       "      <td>0.000041</td>\n",
       "    </tr>\n",
       "    <tr>\n",
       "      <th>AGN(t)</th>\n",
       "      <td>-0.001384</td>\n",
       "      <td>0.000032</td>\n",
       "      <td>0.000017</td>\n",
       "      <td>0.000036</td>\n",
       "    </tr>\n",
       "    <tr>\n",
       "      <th>ZBRA(t)</th>\n",
       "      <td>-0.004385</td>\n",
       "      <td>0.00004</td>\n",
       "      <td>-0.000003</td>\n",
       "      <td>-0.000033</td>\n",
       "    </tr>\n",
       "    <tr>\n",
       "      <th>ADBE(t)</th>\n",
       "      <td>-0.001036</td>\n",
       "      <td>0.000048</td>\n",
       "      <td>0.000089</td>\n",
       "      <td>-0.000075</td>\n",
       "    </tr>\n",
       "    <tr>\n",
       "      <th>CKFR(t)</th>\n",
       "      <td>0.009134</td>\n",
       "      <td>0.000149</td>\n",
       "      <td>-0.000195</td>\n",
       "      <td>0.000155</td>\n",
       "    </tr>\n",
       "    <tr>\n",
       "      <th>MEDI(t)</th>\n",
       "      <td>0.009607</td>\n",
       "      <td>0.000067</td>\n",
       "      <td>0.000071</td>\n",
       "      <td>0.000131</td>\n",
       "    </tr>\n",
       "    <tr>\n",
       "      <th>TXT(t)</th>\n",
       "      <td>0.023654</td>\n",
       "      <td>0.000079</td>\n",
       "      <td>0.000111</td>\n",
       "      <td>-0.000099</td>\n",
       "    </tr>\n",
       "    <tr>\n",
       "      <th>CMCSA(t)</th>\n",
       "      <td>-0.002527</td>\n",
       "      <td>0.000038</td>\n",
       "      <td>-0.000059</td>\n",
       "      <td>0.000046</td>\n",
       "    </tr>\n",
       "    <tr>\n",
       "      <th>HON(t)</th>\n",
       "      <td>0.012667</td>\n",
       "      <td>0.000062</td>\n",
       "      <td>0.000188</td>\n",
       "      <td>0.000079</td>\n",
       "    </tr>\n",
       "    <tr>\n",
       "      <th>SCH(t)</th>\n",
       "      <td>0.009838</td>\n",
       "      <td>0.000107</td>\n",
       "      <td>-0.000149</td>\n",
       "      <td>0.000084</td>\n",
       "    </tr>\n",
       "    <tr>\n",
       "      <th>PDCO(t)</th>\n",
       "      <td>-0.003396</td>\n",
       "      <td>0.000029</td>\n",
       "      <td>0.000018</td>\n",
       "      <td>-0.000033</td>\n",
       "    </tr>\n",
       "    <tr>\n",
       "      <th>GDW(t)</th>\n",
       "      <td>0.013838</td>\n",
       "      <td>0.000043</td>\n",
       "      <td>0.000085</td>\n",
       "      <td>-0.000015</td>\n",
       "    </tr>\n",
       "    <tr>\n",
       "      <th>PHA(t)</th>\n",
       "      <td>0.005674</td>\n",
       "      <td>0.000072</td>\n",
       "      <td>-0.000031</td>\n",
       "      <td>-0.000067</td>\n",
       "    </tr>\n",
       "    <tr>\n",
       "      <th>LXK(t)</th>\n",
       "      <td>0.014071</td>\n",
       "      <td>0.00012</td>\n",
       "      <td>0.000114</td>\n",
       "      <td>0.000049</td>\n",
       "    </tr>\n",
       "    <tr>\n",
       "      <th>FISV(t)</th>\n",
       "      <td>0.009618</td>\n",
       "      <td>0.0001</td>\n",
       "      <td>0.00009</td>\n",
       "      <td>0.000101</td>\n",
       "    </tr>\n",
       "    <tr>\n",
       "      <th>CTSH(t)</th>\n",
       "      <td>0.0243</td>\n",
       "      <td>0.000044</td>\n",
       "      <td>-0.000029</td>\n",
       "      <td>0.000188</td>\n",
       "    </tr>\n",
       "    <tr>\n",
       "      <th>GCI(t)</th>\n",
       "      <td>0.000362</td>\n",
       "      <td>0.000057</td>\n",
       "      <td>-0.000052</td>\n",
       "      <td>0.000022</td>\n",
       "    </tr>\n",
       "  </tbody>\n",
       "</table>\n",
       "</div>"
      ],
      "text/plain": [
       "         Adj. R-Squared         a         b         c\n",
       "FITB(t)        0.003115  0.000029  0.000049  0.000041\n",
       "AGN(t)        -0.001384  0.000032  0.000017  0.000036\n",
       "ZBRA(t)       -0.004385   0.00004 -0.000003 -0.000033\n",
       "ADBE(t)       -0.001036  0.000048  0.000089 -0.000075\n",
       "CKFR(t)        0.009134  0.000149 -0.000195  0.000155\n",
       "MEDI(t)        0.009607  0.000067  0.000071  0.000131\n",
       "TXT(t)         0.023654  0.000079  0.000111 -0.000099\n",
       "CMCSA(t)      -0.002527  0.000038 -0.000059  0.000046\n",
       "HON(t)         0.012667  0.000062  0.000188  0.000079\n",
       "SCH(t)         0.009838  0.000107 -0.000149  0.000084\n",
       "PDCO(t)       -0.003396  0.000029  0.000018 -0.000033\n",
       "GDW(t)         0.013838  0.000043  0.000085 -0.000015\n",
       "PHA(t)         0.005674  0.000072 -0.000031 -0.000067\n",
       "LXK(t)         0.014071   0.00012  0.000114  0.000049\n",
       "FISV(t)        0.009618    0.0001   0.00009  0.000101\n",
       "CTSH(t)          0.0243  0.000044 -0.000029  0.000188\n",
       "GCI(t)         0.000362  0.000057 -0.000052  0.000022"
      ]
     },
     "execution_count": 23,
     "metadata": {},
     "output_type": "execute_result"
    }
   ],
   "source": [
    "rsquared_both"
   ]
  },
  {
   "cell_type": "code",
   "execution_count": 24,
   "metadata": {},
   "outputs": [
    {
     "data": {
      "text/plain": [
       "0.00724414635974443"
      ]
     },
     "execution_count": 24,
     "metadata": {},
     "output_type": "execute_result"
    }
   ],
   "source": [
    "rsquared_both['Adj. R-Squared'].mean()"
   ]
  },
  {
   "cell_type": "code",
   "execution_count": 25,
   "metadata": {},
   "outputs": [],
   "source": [
    "np.random.seed(123)\n",
    "\n",
    "ols['y'] = np.random.normal(2, 1, 356)\n",
    "ols['x'] = np.random.normal(0, 3, 356) + ols['y'] * 4"
   ]
  },
  {
   "cell_type": "code",
   "execution_count": 26,
   "metadata": {},
   "outputs": [
    {
     "data": {
      "text/html": [
       "<div>\n",
       "<style scoped>\n",
       "    .dataframe tbody tr th:only-of-type {\n",
       "        vertical-align: middle;\n",
       "    }\n",
       "\n",
       "    .dataframe tbody tr th {\n",
       "        vertical-align: top;\n",
       "    }\n",
       "\n",
       "    .dataframe thead th {\n",
       "        text-align: right;\n",
       "    }\n",
       "</style>\n",
       "<table border=\"1\" class=\"dataframe\">\n",
       "  <thead>\n",
       "    <tr style=\"text-align: right;\">\n",
       "      <th></th>\n",
       "      <th>y</th>\n",
       "      <th>x</th>\n",
       "      <th>x1</th>\n",
       "      <th>x2</th>\n",
       "    </tr>\n",
       "    <tr>\n",
       "      <th>Time</th>\n",
       "      <th></th>\n",
       "      <th></th>\n",
       "      <th></th>\n",
       "      <th></th>\n",
       "    </tr>\n",
       "  </thead>\n",
       "  <tbody>\n",
       "    <tr>\n",
       "      <th>100400</th>\n",
       "      <td>0.914369</td>\n",
       "      <td>0.784732</td>\n",
       "      <td>-0.070119</td>\n",
       "      <td>1.337158</td>\n",
       "    </tr>\n",
       "    <tr>\n",
       "      <th>100500</th>\n",
       "      <td>2.997345</td>\n",
       "      <td>18.158784</td>\n",
       "      <td>-0.070119</td>\n",
       "      <td>-4.160602</td>\n",
       "    </tr>\n",
       "    <tr>\n",
       "      <th>100600</th>\n",
       "      <td>2.282978</td>\n",
       "      <td>3.466437</td>\n",
       "      <td>1.308417</td>\n",
       "      <td>-1.064912</td>\n",
       "    </tr>\n",
       "    <tr>\n",
       "      <th>100700</th>\n",
       "      <td>0.493705</td>\n",
       "      <td>-1.410171</td>\n",
       "      <td>-0.070119</td>\n",
       "      <td>0.145608</td>\n",
       "    </tr>\n",
       "    <tr>\n",
       "      <th>100800</th>\n",
       "      <td>1.421400</td>\n",
       "      <td>4.481356</td>\n",
       "      <td>-0.070119</td>\n",
       "      <td>-0.413734</td>\n",
       "    </tr>\n",
       "    <tr>\n",
       "      <th>...</th>\n",
       "      <td>...</td>\n",
       "      <td>...</td>\n",
       "      <td>...</td>\n",
       "      <td>...</td>\n",
       "    </tr>\n",
       "    <tr>\n",
       "      <th>155500</th>\n",
       "      <td>1.811703</td>\n",
       "      <td>5.755332</td>\n",
       "      <td>-1.788132</td>\n",
       "      <td>0.077631</td>\n",
       "    </tr>\n",
       "    <tr>\n",
       "      <th>155600</th>\n",
       "      <td>1.099991</td>\n",
       "      <td>6.474233</td>\n",
       "      <td>-0.236489</td>\n",
       "      <td>0.009532</td>\n",
       "    </tr>\n",
       "    <tr>\n",
       "      <th>155700</th>\n",
       "      <td>1.068998</td>\n",
       "      <td>10.105472</td>\n",
       "      <td>-1.643033</td>\n",
       "      <td>0.236525</td>\n",
       "    </tr>\n",
       "    <tr>\n",
       "      <th>155800</th>\n",
       "      <td>0.777263</td>\n",
       "      <td>-0.240642</td>\n",
       "      <td>-0.080157</td>\n",
       "      <td>-0.164391</td>\n",
       "    </tr>\n",
       "    <tr>\n",
       "      <th>155900</th>\n",
       "      <td>1.606689</td>\n",
       "      <td>4.778996</td>\n",
       "      <td>2.040883</td>\n",
       "      <td>0.029333</td>\n",
       "    </tr>\n",
       "  </tbody>\n",
       "</table>\n",
       "<p>356 rows × 4 columns</p>\n",
       "</div>"
      ],
      "text/plain": [
       "               y          x        x1        x2\n",
       "Time                                           \n",
       "100400  0.914369   0.784732 -0.070119  1.337158\n",
       "100500  2.997345  18.158784 -0.070119 -4.160602\n",
       "100600  2.282978   3.466437  1.308417 -1.064912\n",
       "100700  0.493705  -1.410171 -0.070119  0.145608\n",
       "100800  1.421400   4.481356 -0.070119 -0.413734\n",
       "...          ...        ...       ...       ...\n",
       "155500  1.811703   5.755332 -1.788132  0.077631\n",
       "155600  1.099991   6.474233 -0.236489  0.009532\n",
       "155700  1.068998  10.105472 -1.643033  0.236525\n",
       "155800  0.777263  -0.240642 -0.080157 -0.164391\n",
       "155900  1.606689   4.778996  2.040883  0.029333\n",
       "\n",
       "[356 rows x 4 columns]"
      ]
     },
     "execution_count": 26,
     "metadata": {},
     "output_type": "execute_result"
    }
   ],
   "source": [
    "ols"
   ]
  },
  {
   "cell_type": "code",
   "execution_count": 27,
   "metadata": {},
   "outputs": [],
   "source": [
    "result = sm.ols(formula=\"y ~ x\", data=ols).fit()"
   ]
  },
  {
   "cell_type": "code",
   "execution_count": 28,
   "metadata": {},
   "outputs": [
    {
     "name": "stdout",
     "output_type": "stream",
     "text": [
      "                            OLS Regression Results                            \n",
      "==============================================================================\n",
      "Dep. Variable:                      y   R-squared:                       0.660\n",
      "Model:                            OLS   Adj. R-squared:                  0.659\n",
      "Method:                 Least Squares   F-statistic:                     687.6\n",
      "Date:                Wed, 22 Feb 2023   Prob (F-statistic):           5.70e-85\n",
      "Time:                        15:59:08   Log-Likelihood:                -313.26\n",
      "No. Observations:                 356   AIC:                             630.5\n",
      "Df Residuals:                     354   BIC:                             638.3\n",
      "Df Model:                           1                                         \n",
      "Covariance Type:            nonrobust                                         \n",
      "==============================================================================\n",
      "                 coef    std err          t      P>|t|      [0.025      0.975]\n",
      "------------------------------------------------------------------------------\n",
      "Intercept      0.6906      0.057     12.022      0.000       0.578       0.804\n",
      "x              0.1596      0.006     26.223      0.000       0.148       0.172\n",
      "==============================================================================\n",
      "Omnibus:                        2.995   Durbin-Watson:                   1.989\n",
      "Prob(Omnibus):                  0.224   Jarque-Bera (JB):                2.592\n",
      "Skew:                           0.114   Prob(JB):                        0.274\n",
      "Kurtosis:                       2.650   Cond. No.                         17.6\n",
      "==============================================================================\n",
      "\n",
      "Notes:\n",
      "[1] Standard Errors assume that the covariance matrix of the errors is correctly specified.\n"
     ]
    }
   ],
   "source": [
    "print(result.summary())"
   ]
  },
  {
   "cell_type": "code",
   "execution_count": 29,
   "metadata": {},
   "outputs": [
    {
     "data": {
      "text/plain": [
       "0.6601446801133858"
      ]
     },
     "execution_count": 29,
     "metadata": {},
     "output_type": "execute_result"
    }
   ],
   "source": [
    "result.rsquared"
   ]
  },
  {
   "cell_type": "code",
   "execution_count": 30,
   "metadata": {},
   "outputs": [
    {
     "data": {
      "text/plain": [
       "0.6591846368368699"
      ]
     },
     "execution_count": 30,
     "metadata": {},
     "output_type": "execute_result"
    }
   ],
   "source": [
    "result.rsquared_adj"
   ]
  }
 ],
 "metadata": {
  "kernelspec": {
   "display_name": "Python 3",
   "language": "python",
   "name": "python3"
  },
  "language_info": {
   "codemirror_mode": {
    "name": "ipython",
    "version": 3
   },
   "file_extension": ".py",
   "mimetype": "text/x-python",
   "name": "python",
   "nbconvert_exporter": "python",
   "pygments_lexer": "ipython3",
   "version": "3.10.2"
  },
  "orig_nbformat": 4,
  "vscode": {
   "interpreter": {
    "hash": "c63d8c7d738c2960218a10995aedf0a7f67a49a231e71037adf0440953cdb45b"
   }
  }
 },
 "nbformat": 4,
 "nbformat_minor": 2
}
