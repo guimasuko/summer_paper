{
 "cells": [
  {
   "cell_type": "code",
   "execution_count": 1,
   "metadata": {},
   "outputs": [],
   "source": [
    "# pacotes\n",
    "import numpy as np\n",
    "import pandas as pd\n",
    "import statsmodels.formula.api as sm"
   ]
  },
  {
   "cell_type": "code",
   "execution_count": 2,
   "metadata": {},
   "outputs": [],
   "source": [
    "# oculta mensagens de avisos\n",
    "import warnings\n",
    "warnings.filterwarnings(\"ignore\")"
   ]
  },
  {
   "cell_type": "code",
   "execution_count": 3,
   "metadata": {},
   "outputs": [],
   "source": [
    "f_lasso = pd.read_csv('../../output/data/20030102_f_lasso.csv', index_col=0)"
   ]
  },
  {
   "cell_type": "code",
   "execution_count": 4,
   "metadata": {},
   "outputs": [],
   "source": [
    "f_bmk = pd.read_csv('../../output/data/20030102_f_bmk.csv', index_col=0)"
   ]
  },
  {
   "cell_type": "code",
   "execution_count": 5,
   "metadata": {},
   "outputs": [],
   "source": [
    "y = pd.read_csv('../../output/data/20030102_y.csv', index_col=0)"
   ]
  },
  {
   "attachments": {},
   "cell_type": "markdown",
   "metadata": {},
   "source": [
    "\n",
    "$$\n",
    "r_{n, t+1}=\\bar{a}_n+\\bar{b}_n \\cdot\\left(\\frac{f_{n, t}^{\\text {LASSO }}-\\bar{m}_n^{\\text {LASSO }}}{s_n^{\\text {LASSO }}}\\right)+e_{n, t+1}\n",
    "$$"
   ]
  },
  {
   "cell_type": "code",
   "execution_count": 6,
   "metadata": {},
   "outputs": [],
   "source": [
    "# padronização\n",
    "f_lasso = (f_lasso - f_lasso.mean()) / f_lasso.std()"
   ]
  },
  {
   "cell_type": "code",
   "execution_count": 7,
   "metadata": {},
   "outputs": [],
   "source": [
    "# não conseguimos estimar todos ativos, então vamos deixar apenas os que tiveram suas previsões estimadas\n",
    "f_lasso = f_lasso.dropna(axis=1)"
   ]
  },
  {
   "cell_type": "code",
   "execution_count": 8,
   "metadata": {},
   "outputs": [],
   "source": [
    "# mesma coisa para as ações\n",
    "y = y[f_lasso.columns]"
   ]
  },
  {
   "cell_type": "code",
   "execution_count": 9,
   "metadata": {},
   "outputs": [],
   "source": [
    "# também para o índice que começa a partir das 10:04 e termina em 15:59\n",
    "y = y.loc[100400:155900]"
   ]
  },
  {
   "cell_type": "code",
   "execution_count": 10,
   "metadata": {},
   "outputs": [],
   "source": [
    "lasso = pd.DataFrame(columns=['Adj. R-Squared', 'a', 'b'], index=y.columns)"
   ]
  },
  {
   "cell_type": "code",
   "execution_count": 11,
   "metadata": {},
   "outputs": [],
   "source": [
    "ols = pd.DataFrame()"
   ]
  },
  {
   "cell_type": "code",
   "execution_count": 12,
   "metadata": {},
   "outputs": [],
   "source": [
    "def adjusted_Rsquared(result):\n",
    "    r2 = result.rsquared\n",
    "    n = len(y)\n",
    "    k = len(result.params) - 1\n",
    "    ar2 = 1 - ( 1 - r2) * ( ( n - 1) / ( n - k ) )\n",
    "    return ar2"
   ]
  },
  {
   "cell_type": "code",
   "execution_count": 13,
   "metadata": {},
   "outputs": [],
   "source": [
    "for col in f_lasso.columns:\n",
    "    ols['y'] = y[col]\n",
    "    ols['x'] = f_lasso[col]\n",
    "    result = sm.ols(formula=\"y ~ x\", data=ols).fit()\n",
    "    lasso.at[col, 'a'] = result.params[0]\n",
    "    lasso.at[col, 'b'] = result.params[1]\n",
    "    lasso.at[col, 'Adj. R-Squared'] = adjusted_Rsquared(result)"
   ]
  },
  {
   "cell_type": "code",
   "execution_count": 14,
   "metadata": {},
   "outputs": [
    {
     "data": {
      "text/html": [
       "<div>\n",
       "<style scoped>\n",
       "    .dataframe tbody tr th:only-of-type {\n",
       "        vertical-align: middle;\n",
       "    }\n",
       "\n",
       "    .dataframe tbody tr th {\n",
       "        vertical-align: top;\n",
       "    }\n",
       "\n",
       "    .dataframe thead th {\n",
       "        text-align: right;\n",
       "    }\n",
       "</style>\n",
       "<table border=\"1\" class=\"dataframe\">\n",
       "  <thead>\n",
       "    <tr style=\"text-align: right;\">\n",
       "      <th></th>\n",
       "      <th>Adj. R-Squared</th>\n",
       "      <th>a</th>\n",
       "      <th>b</th>\n",
       "    </tr>\n",
       "  </thead>\n",
       "  <tbody>\n",
       "    <tr>\n",
       "      <th>FITB(t)</th>\n",
       "      <td>0.005758</td>\n",
       "      <td>0.000029</td>\n",
       "      <td>0.000056</td>\n",
       "    </tr>\n",
       "    <tr>\n",
       "      <th>AGN(t)</th>\n",
       "      <td>0.000409</td>\n",
       "      <td>0.000032</td>\n",
       "      <td>0.000011</td>\n",
       "    </tr>\n",
       "    <tr>\n",
       "      <th>ZBRA(t)</th>\n",
       "      <td>0.000037</td>\n",
       "      <td>0.00004</td>\n",
       "      <td>-0.000006</td>\n",
       "    </tr>\n",
       "    <tr>\n",
       "      <th>ADBE(t)</th>\n",
       "      <td>0.002273</td>\n",
       "      <td>0.000048</td>\n",
       "      <td>0.000072</td>\n",
       "    </tr>\n",
       "    <tr>\n",
       "      <th>CKFR(t)</th>\n",
       "      <td>0.008107</td>\n",
       "      <td>0.000149</td>\n",
       "      <td>-0.00017</td>\n",
       "    </tr>\n",
       "    <tr>\n",
       "      <th>MEDI(t)</th>\n",
       "      <td>0.003949</td>\n",
       "      <td>0.000067</td>\n",
       "      <td>0.000078</td>\n",
       "    </tr>\n",
       "    <tr>\n",
       "      <th>TXT(t)</th>\n",
       "      <td>0.016412</td>\n",
       "      <td>0.000079</td>\n",
       "      <td>0.000113</td>\n",
       "    </tr>\n",
       "    <tr>\n",
       "      <th>CMCSA(t)</th>\n",
       "      <td>0.001863</td>\n",
       "      <td>0.000038</td>\n",
       "      <td>-0.000056</td>\n",
       "    </tr>\n",
       "    <tr>\n",
       "      <th>HON(t)</th>\n",
       "      <td>0.015476</td>\n",
       "      <td>0.000062</td>\n",
       "      <td>0.000187</td>\n",
       "    </tr>\n",
       "    <tr>\n",
       "      <th>SCH(t)</th>\n",
       "      <td>0.0115</td>\n",
       "      <td>0.000107</td>\n",
       "      <td>-0.000145</td>\n",
       "    </tr>\n",
       "    <tr>\n",
       "      <th>PDCO(t)</th>\n",
       "      <td>0.000601</td>\n",
       "      <td>0.000029</td>\n",
       "      <td>0.00002</td>\n",
       "    </tr>\n",
       "    <tr>\n",
       "      <th>GDW(t)</th>\n",
       "      <td>0.018769</td>\n",
       "      <td>0.000043</td>\n",
       "      <td>0.000084</td>\n",
       "    </tr>\n",
       "    <tr>\n",
       "      <th>PHA(t)</th>\n",
       "      <td>0.00279</td>\n",
       "      <td>0.000072</td>\n",
       "      <td>-0.000038</td>\n",
       "    </tr>\n",
       "    <tr>\n",
       "      <th>LXK(t)</th>\n",
       "      <td>0.017027</td>\n",
       "      <td>0.00012</td>\n",
       "      <td>0.000123</td>\n",
       "    </tr>\n",
       "    <tr>\n",
       "      <th>FISV(t)</th>\n",
       "      <td>0.005259</td>\n",
       "      <td>0.0001</td>\n",
       "      <td>0.000072</td>\n",
       "    </tr>\n",
       "    <tr>\n",
       "      <th>CTSH(t)</th>\n",
       "      <td>0.000029</td>\n",
       "      <td>0.000044</td>\n",
       "      <td>-0.000006</td>\n",
       "    </tr>\n",
       "    <tr>\n",
       "      <th>GCI(t)</th>\n",
       "      <td>0.005102</td>\n",
       "      <td>0.000057</td>\n",
       "      <td>-0.000052</td>\n",
       "    </tr>\n",
       "  </tbody>\n",
       "</table>\n",
       "</div>"
      ],
      "text/plain": [
       "         Adj. R-Squared         a         b\n",
       "FITB(t)        0.005758  0.000029  0.000056\n",
       "AGN(t)         0.000409  0.000032  0.000011\n",
       "ZBRA(t)        0.000037   0.00004 -0.000006\n",
       "ADBE(t)        0.002273  0.000048  0.000072\n",
       "CKFR(t)        0.008107  0.000149  -0.00017\n",
       "MEDI(t)        0.003949  0.000067  0.000078\n",
       "TXT(t)         0.016412  0.000079  0.000113\n",
       "CMCSA(t)       0.001863  0.000038 -0.000056\n",
       "HON(t)         0.015476  0.000062  0.000187\n",
       "SCH(t)           0.0115  0.000107 -0.000145\n",
       "PDCO(t)        0.000601  0.000029   0.00002\n",
       "GDW(t)         0.018769  0.000043  0.000084\n",
       "PHA(t)          0.00279  0.000072 -0.000038\n",
       "LXK(t)         0.017027   0.00012  0.000123\n",
       "FISV(t)        0.005259    0.0001  0.000072\n",
       "CTSH(t)        0.000029  0.000044 -0.000006\n",
       "GCI(t)         0.005102  0.000057 -0.000052"
      ]
     },
     "execution_count": 14,
     "metadata": {},
     "output_type": "execute_result"
    }
   ],
   "source": [
    "lasso"
   ]
  },
  {
   "cell_type": "code",
   "execution_count": 15,
   "metadata": {},
   "outputs": [
    {
     "data": {
      "text/plain": [
       "0.006785797817207614"
      ]
     },
     "execution_count": 15,
     "metadata": {},
     "output_type": "execute_result"
    }
   ],
   "source": [
    "lasso['Adj. R-Squared'].mean()"
   ]
  },
  {
   "attachments": {},
   "cell_type": "markdown",
   "metadata": {},
   "source": [
    "$$\n",
    "r_{n, t+1}=\\bar{a}_n+\\bar{c}_n \\cdot\\left(\\frac{f_{n, t}^{\\mathrm{Bmk}}-\\bar{m}_n^{\\mathrm{Bmk}}}{\\bar{s}_n^{\\mathrm{Bmk}}}\\right)+e_{n, t+1} \n",
    "$$"
   ]
  },
  {
   "cell_type": "code",
   "execution_count": 16,
   "metadata": {},
   "outputs": [],
   "source": [
    "# padronização\n",
    "f_bmk = ( f_bmk - f_bmk.mean() ) / f_bmk.std()"
   ]
  },
  {
   "cell_type": "code",
   "execution_count": 17,
   "metadata": {},
   "outputs": [],
   "source": [
    "# mesma coisa para as ações\n",
    "f_bmk = f_bmk[f_lasso.columns]"
   ]
  },
  {
   "cell_type": "code",
   "execution_count": 18,
   "metadata": {},
   "outputs": [],
   "source": [
    "bmk = pd.DataFrame(columns=['Adj. R-Squared', 'a', 'c'], index=y.columns)"
   ]
  },
  {
   "cell_type": "code",
   "execution_count": 19,
   "metadata": {},
   "outputs": [],
   "source": [
    "for col in f_bmk.columns:\n",
    "    ols['y'] = y[col]\n",
    "    ols['x'] = f_bmk[col]\n",
    "    result = sm.ols(formula=\"y ~ x\", data=ols).fit()\n",
    "    bmk.at[col, 'a'] = result.params[0]\n",
    "    bmk.at[col, 'c'] = result.params[1]\n",
    "    bmk.at[col, 'Adj. R-Squared'] = adjusted_Rsquared(result)"
   ]
  },
  {
   "cell_type": "code",
   "execution_count": 20,
   "metadata": {},
   "outputs": [
    {
     "data": {
      "text/html": [
       "<div>\n",
       "<style scoped>\n",
       "    .dataframe tbody tr th:only-of-type {\n",
       "        vertical-align: middle;\n",
       "    }\n",
       "\n",
       "    .dataframe tbody tr th {\n",
       "        vertical-align: top;\n",
       "    }\n",
       "\n",
       "    .dataframe thead th {\n",
       "        text-align: right;\n",
       "    }\n",
       "</style>\n",
       "<table border=\"1\" class=\"dataframe\">\n",
       "  <thead>\n",
       "    <tr style=\"text-align: right;\">\n",
       "      <th></th>\n",
       "      <th>Adj. R-Squared</th>\n",
       "      <th>a</th>\n",
       "      <th>c</th>\n",
       "    </tr>\n",
       "  </thead>\n",
       "  <tbody>\n",
       "    <tr>\n",
       "      <th>FITB(t)</th>\n",
       "      <td>0.004352</td>\n",
       "      <td>0.000029</td>\n",
       "      <td>0.000049</td>\n",
       "    </tr>\n",
       "    <tr>\n",
       "      <th>AGN(t)</th>\n",
       "      <td>0.003372</td>\n",
       "      <td>0.000032</td>\n",
       "      <td>0.000033</td>\n",
       "    </tr>\n",
       "    <tr>\n",
       "      <th>ZBRA(t)</th>\n",
       "      <td>0.001261</td>\n",
       "      <td>0.00004</td>\n",
       "      <td>-0.000034</td>\n",
       "    </tr>\n",
       "    <tr>\n",
       "      <th>ADBE(t)</th>\n",
       "      <td>0.001346</td>\n",
       "      <td>0.000048</td>\n",
       "      <td>-0.000056</td>\n",
       "    </tr>\n",
       "    <tr>\n",
       "      <th>CKFR(t)</th>\n",
       "      <td>0.00432</td>\n",
       "      <td>0.000149</td>\n",
       "      <td>0.000124</td>\n",
       "    </tr>\n",
       "    <tr>\n",
       "      <th>MEDI(t)</th>\n",
       "      <td>0.011862</td>\n",
       "      <td>0.000067</td>\n",
       "      <td>0.000134</td>\n",
       "    </tr>\n",
       "    <tr>\n",
       "      <th>TXT(t)</th>\n",
       "      <td>0.013154</td>\n",
       "      <td>0.000079</td>\n",
       "      <td>-0.000101</td>\n",
       "    </tr>\n",
       "    <tr>\n",
       "      <th>CMCSA(t)</th>\n",
       "      <td>0.001102</td>\n",
       "      <td>0.000038</td>\n",
       "      <td>0.000043</td>\n",
       "    </tr>\n",
       "    <tr>\n",
       "      <th>HON(t)</th>\n",
       "      <td>0.002527</td>\n",
       "      <td>0.000062</td>\n",
       "      <td>0.000075</td>\n",
       "    </tr>\n",
       "    <tr>\n",
       "      <th>SCH(t)</th>\n",
       "      <td>0.003255</td>\n",
       "      <td>0.000107</td>\n",
       "      <td>0.000077</td>\n",
       "    </tr>\n",
       "    <tr>\n",
       "      <th>PDCO(t)</th>\n",
       "      <td>0.001774</td>\n",
       "      <td>0.000029</td>\n",
       "      <td>-0.000034</td>\n",
       "    </tr>\n",
       "    <tr>\n",
       "      <th>GDW(t)</th>\n",
       "      <td>0.000333</td>\n",
       "      <td>0.000043</td>\n",
       "      <td>-0.000011</td>\n",
       "    </tr>\n",
       "    <tr>\n",
       "      <th>PHA(t)</th>\n",
       "      <td>0.009417</td>\n",
       "      <td>0.000072</td>\n",
       "      <td>-0.00007</td>\n",
       "    </tr>\n",
       "    <tr>\n",
       "      <th>LXK(t)</th>\n",
       "      <td>0.005374</td>\n",
       "      <td>0.00012</td>\n",
       "      <td>0.000069</td>\n",
       "    </tr>\n",
       "    <tr>\n",
       "      <th>FISV(t)</th>\n",
       "      <td>0.0072</td>\n",
       "      <td>0.0001</td>\n",
       "      <td>0.000084</td>\n",
       "    </tr>\n",
       "    <tr>\n",
       "      <th>CTSH(t)</th>\n",
       "      <td>0.029105</td>\n",
       "      <td>0.000044</td>\n",
       "      <td>0.000184</td>\n",
       "    </tr>\n",
       "    <tr>\n",
       "      <th>GCI(t)</th>\n",
       "      <td>0.000761</td>\n",
       "      <td>0.000057</td>\n",
       "      <td>0.00002</td>\n",
       "    </tr>\n",
       "  </tbody>\n",
       "</table>\n",
       "</div>"
      ],
      "text/plain": [
       "         Adj. R-Squared         a         c\n",
       "FITB(t)        0.004352  0.000029  0.000049\n",
       "AGN(t)         0.003372  0.000032  0.000033\n",
       "ZBRA(t)        0.001261   0.00004 -0.000034\n",
       "ADBE(t)        0.001346  0.000048 -0.000056\n",
       "CKFR(t)         0.00432  0.000149  0.000124\n",
       "MEDI(t)        0.011862  0.000067  0.000134\n",
       "TXT(t)         0.013154  0.000079 -0.000101\n",
       "CMCSA(t)       0.001102  0.000038  0.000043\n",
       "HON(t)         0.002527  0.000062  0.000075\n",
       "SCH(t)         0.003255  0.000107  0.000077\n",
       "PDCO(t)        0.001774  0.000029 -0.000034\n",
       "GDW(t)         0.000333  0.000043 -0.000011\n",
       "PHA(t)         0.009417  0.000072  -0.00007\n",
       "LXK(t)         0.005374   0.00012  0.000069\n",
       "FISV(t)          0.0072    0.0001  0.000084\n",
       "CTSH(t)        0.029105  0.000044  0.000184\n",
       "GCI(t)         0.000761  0.000057   0.00002"
      ]
     },
     "execution_count": 20,
     "metadata": {},
     "output_type": "execute_result"
    }
   ],
   "source": [
    "bmk"
   ]
  },
  {
   "cell_type": "code",
   "execution_count": 21,
   "metadata": {},
   "outputs": [
    {
     "data": {
      "text/plain": [
       "0.005912546663266493"
      ]
     },
     "execution_count": 21,
     "metadata": {},
     "output_type": "execute_result"
    }
   ],
   "source": [
    "bmk['Adj. R-Squared'].mean()"
   ]
  },
  {
   "attachments": {},
   "cell_type": "markdown",
   "metadata": {},
   "source": [
    "$$\n",
    "r_{n, t+1}=\\bar{a}_n+\\bar{b}_n \\cdot\\left(\\frac{f_{n, t}^{\\mathrm{L} A S S O}-\\bar{m}_n^{\\mathrm{LASSO}}}{\\bar{s}_n^{\\mathrm{LASSO}}}\\right)+\\bar{c}_n \\cdot\\left(\\frac{f_{n, t}^{\\mathrm{Bmk}}-\\bar{m}_n^{\\mathrm{Bmkk}}}{\\bar{B}_n^{\\mathrm{Bmk}}}\\right)+e_{n, t+1}\n",
    "$$"
   ]
  },
  {
   "cell_type": "code",
   "execution_count": 22,
   "metadata": {},
   "outputs": [],
   "source": [
    "both = pd.DataFrame(columns=['Adj. R-Squared', 'a', 'b', 'c'], index=y.columns)"
   ]
  },
  {
   "cell_type": "code",
   "execution_count": 23,
   "metadata": {},
   "outputs": [],
   "source": [
    "for col in f_bmk.columns:\n",
    "    ols['y'] = y[col]\n",
    "    ols['x1'] = f_lasso[col]\n",
    "    ols['x2'] = f_bmk[col]\n",
    "    result = sm.ols(formula=\"y ~ x1 + x2\", data=ols).fit()\n",
    "    both.at[col, 'a'] = result.params[0]\n",
    "    both.at[col, 'b'] = result.params[1]\n",
    "    both.at[col, 'c'] = result.params[2]\n",
    "    both.at[col, 'Adj. R-Squared'] = adjusted_Rsquared(result)"
   ]
  },
  {
   "cell_type": "code",
   "execution_count": 24,
   "metadata": {},
   "outputs": [
    {
     "data": {
      "text/html": [
       "<div>\n",
       "<style scoped>\n",
       "    .dataframe tbody tr th:only-of-type {\n",
       "        vertical-align: middle;\n",
       "    }\n",
       "\n",
       "    .dataframe tbody tr th {\n",
       "        vertical-align: top;\n",
       "    }\n",
       "\n",
       "    .dataframe thead th {\n",
       "        text-align: right;\n",
       "    }\n",
       "</style>\n",
       "<table border=\"1\" class=\"dataframe\">\n",
       "  <thead>\n",
       "    <tr style=\"text-align: right;\">\n",
       "      <th></th>\n",
       "      <th>Adj. R-Squared</th>\n",
       "      <th>a</th>\n",
       "      <th>b</th>\n",
       "      <th>c</th>\n",
       "    </tr>\n",
       "  </thead>\n",
       "  <tbody>\n",
       "    <tr>\n",
       "      <th>FITB(t)</th>\n",
       "      <td>0.005931</td>\n",
       "      <td>0.000029</td>\n",
       "      <td>0.000049</td>\n",
       "      <td>0.000041</td>\n",
       "    </tr>\n",
       "    <tr>\n",
       "      <th>AGN(t)</th>\n",
       "      <td>0.001445</td>\n",
       "      <td>0.000032</td>\n",
       "      <td>0.000017</td>\n",
       "      <td>0.000036</td>\n",
       "    </tr>\n",
       "    <tr>\n",
       "      <th>ZBRA(t)</th>\n",
       "      <td>-0.001548</td>\n",
       "      <td>0.00004</td>\n",
       "      <td>-0.000003</td>\n",
       "      <td>-0.000033</td>\n",
       "    </tr>\n",
       "    <tr>\n",
       "      <th>ADBE(t)</th>\n",
       "      <td>0.001792</td>\n",
       "      <td>0.000048</td>\n",
       "      <td>0.000089</td>\n",
       "      <td>-0.000075</td>\n",
       "    </tr>\n",
       "    <tr>\n",
       "      <th>CKFR(t)</th>\n",
       "      <td>0.011933</td>\n",
       "      <td>0.000149</td>\n",
       "      <td>-0.000195</td>\n",
       "      <td>0.000155</td>\n",
       "    </tr>\n",
       "    <tr>\n",
       "      <th>MEDI(t)</th>\n",
       "      <td>0.012405</td>\n",
       "      <td>0.000067</td>\n",
       "      <td>0.000071</td>\n",
       "      <td>0.000131</td>\n",
       "    </tr>\n",
       "    <tr>\n",
       "      <th>TXT(t)</th>\n",
       "      <td>0.026412</td>\n",
       "      <td>0.000079</td>\n",
       "      <td>0.000111</td>\n",
       "      <td>-0.000099</td>\n",
       "    </tr>\n",
       "    <tr>\n",
       "      <th>CMCSA(t)</th>\n",
       "      <td>0.000305</td>\n",
       "      <td>0.000038</td>\n",
       "      <td>-0.000059</td>\n",
       "      <td>0.000046</td>\n",
       "    </tr>\n",
       "    <tr>\n",
       "      <th>HON(t)</th>\n",
       "      <td>0.015456</td>\n",
       "      <td>0.000062</td>\n",
       "      <td>0.000188</td>\n",
       "      <td>0.000079</td>\n",
       "    </tr>\n",
       "    <tr>\n",
       "      <th>SCH(t)</th>\n",
       "      <td>0.012635</td>\n",
       "      <td>0.000107</td>\n",
       "      <td>-0.000149</td>\n",
       "      <td>0.000084</td>\n",
       "    </tr>\n",
       "    <tr>\n",
       "      <th>PDCO(t)</th>\n",
       "      <td>-0.000562</td>\n",
       "      <td>0.000029</td>\n",
       "      <td>0.000018</td>\n",
       "      <td>-0.000033</td>\n",
       "    </tr>\n",
       "    <tr>\n",
       "      <th>GDW(t)</th>\n",
       "      <td>0.016624</td>\n",
       "      <td>0.000043</td>\n",
       "      <td>0.000085</td>\n",
       "      <td>-0.000015</td>\n",
       "    </tr>\n",
       "    <tr>\n",
       "      <th>PHA(t)</th>\n",
       "      <td>0.008483</td>\n",
       "      <td>0.000072</td>\n",
       "      <td>-0.000031</td>\n",
       "      <td>-0.000067</td>\n",
       "    </tr>\n",
       "    <tr>\n",
       "      <th>LXK(t)</th>\n",
       "      <td>0.016856</td>\n",
       "      <td>0.00012</td>\n",
       "      <td>0.000114</td>\n",
       "      <td>0.000049</td>\n",
       "    </tr>\n",
       "    <tr>\n",
       "      <th>FISV(t)</th>\n",
       "      <td>0.012416</td>\n",
       "      <td>0.0001</td>\n",
       "      <td>0.00009</td>\n",
       "      <td>0.000101</td>\n",
       "    </tr>\n",
       "    <tr>\n",
       "      <th>CTSH(t)</th>\n",
       "      <td>0.027056</td>\n",
       "      <td>0.000044</td>\n",
       "      <td>-0.000029</td>\n",
       "      <td>0.000188</td>\n",
       "    </tr>\n",
       "    <tr>\n",
       "      <th>GCI(t)</th>\n",
       "      <td>0.003186</td>\n",
       "      <td>0.000057</td>\n",
       "      <td>-0.000052</td>\n",
       "      <td>0.000022</td>\n",
       "    </tr>\n",
       "  </tbody>\n",
       "</table>\n",
       "</div>"
      ],
      "text/plain": [
       "         Adj. R-Squared         a         b         c\n",
       "FITB(t)        0.005931  0.000029  0.000049  0.000041\n",
       "AGN(t)         0.001445  0.000032  0.000017  0.000036\n",
       "ZBRA(t)       -0.001548   0.00004 -0.000003 -0.000033\n",
       "ADBE(t)        0.001792  0.000048  0.000089 -0.000075\n",
       "CKFR(t)        0.011933  0.000149 -0.000195  0.000155\n",
       "MEDI(t)        0.012405  0.000067  0.000071  0.000131\n",
       "TXT(t)         0.026412  0.000079  0.000111 -0.000099\n",
       "CMCSA(t)       0.000305  0.000038 -0.000059  0.000046\n",
       "HON(t)         0.015456  0.000062  0.000188  0.000079\n",
       "SCH(t)         0.012635  0.000107 -0.000149  0.000084\n",
       "PDCO(t)       -0.000562  0.000029  0.000018 -0.000033\n",
       "GDW(t)         0.016624  0.000043  0.000085 -0.000015\n",
       "PHA(t)         0.008483  0.000072 -0.000031 -0.000067\n",
       "LXK(t)         0.016856   0.00012  0.000114  0.000049\n",
       "FISV(t)        0.012416    0.0001   0.00009  0.000101\n",
       "CTSH(t)        0.027056  0.000044 -0.000029  0.000188\n",
       "GCI(t)         0.003186  0.000057 -0.000052  0.000022"
      ]
     },
     "execution_count": 24,
     "metadata": {},
     "output_type": "execute_result"
    }
   ],
   "source": [
    "both"
   ]
  },
  {
   "cell_type": "code",
   "execution_count": 36,
   "metadata": {},
   "outputs": [
    {
     "data": {
      "text/plain": [
       "0.0068"
      ]
     },
     "execution_count": 36,
     "metadata": {},
     "output_type": "execute_result"
    }
   ],
   "source": [
    "round(lasso['Adj. R-Squared'].mean(), 4)"
   ]
  },
  {
   "cell_type": "code",
   "execution_count": 37,
   "metadata": {},
   "outputs": [
    {
     "data": {
      "text/plain": [
       "0.0059"
      ]
     },
     "execution_count": 37,
     "metadata": {},
     "output_type": "execute_result"
    }
   ],
   "source": [
    "round(bmk['Adj. R-Squared'].mean(), 4)"
   ]
  },
  {
   "cell_type": "code",
   "execution_count": 39,
   "metadata": {},
   "outputs": [
    {
     "data": {
      "text/plain": [
       "0.01"
      ]
     },
     "execution_count": 39,
     "metadata": {},
     "output_type": "execute_result"
    }
   ],
   "source": [
    "round(both['Adj. R-Squared'].mean(), 4)"
   ]
  },
  {
   "attachments": {},
   "cell_type": "markdown",
   "metadata": {},
   "source": [
    "O resultado que obtivemos para essa análise de apenas um dia é que o coeficiente de determinação ajustado no modelo apenas com o LASSO é de $\\bar{R}^{2,\\operatorname{LASSO}}_n = 0.0068$, enquanto no modelo Benchmark é $\\bar{R}^{2,\\operatorname{Bmk}}_n = 0.0059$."
   ]
  },
  {
   "attachments": {},
   "cell_type": "markdown",
   "metadata": {},
   "source": [
    "Mas a questão que temos é se incluir a previsão do retorno de um minuto à frente do LASSO aumenta a estatística $\\bar{R}^2_n$, isso é, estamos calculando $\\Delta \\bar{R}^2_n \\stackrel{\\text { def }}{=} \\bar{R}^{2,\\operatorname{Both}}_n - \\bar{R}^{2,\\operatorname{Bmk}}_n$. Em um extremo, se o LASSO e o modelo Benchmark estiverem usando conjuntos informacionais totalmente diferentes para criar suas respectivas previsões de retornos de um minuto à frente, então encontraremos $\\Delta \\bar{R}^2_n = \\bar{R}^{2,\\operatorname{LASSO}}_n = 0.0068$. No outro extremo, se o LASSO estiver simplesmente replicando as previsões de retorno de um minuto à frente do modelo Benchmark, então estimaremos $\\Delta \\bar{R}^2_n = 0$."
   ]
  },
  {
   "cell_type": "code",
   "execution_count": 42,
   "metadata": {},
   "outputs": [
    {
     "data": {
      "text/plain": [
       "0.0041"
      ]
     },
     "execution_count": 42,
     "metadata": {},
     "output_type": "execute_result"
    }
   ],
   "source": [
    "round(both['Adj. R-Squared'].mean() - bmk['Adj. R-Squared'].mean(), 4)"
   ]
  },
  {
   "attachments": {},
   "cell_type": "markdown",
   "metadata": {},
   "source": [
    "O que encontramos foi $\\Delta \\bar{R}^2_n = 0.0041$."
   ]
  },
  {
   "attachments": {},
   "cell_type": "markdown",
   "metadata": {},
   "source": [
    "### Adjusted R-Squared - Test"
   ]
  },
  {
   "cell_type": "code",
   "execution_count": 28,
   "metadata": {},
   "outputs": [],
   "source": [
    "np.random.seed(123)\n",
    "\n",
    "ols['x'] = np.random.normal(0, 1, 356)\n",
    "ols['y'] = np.random.normal(0, 1, 356) + ols['x'] * 4"
   ]
  },
  {
   "cell_type": "code",
   "execution_count": 29,
   "metadata": {},
   "outputs": [
    {
     "data": {
      "text/html": [
       "<div>\n",
       "<style scoped>\n",
       "    .dataframe tbody tr th:only-of-type {\n",
       "        vertical-align: middle;\n",
       "    }\n",
       "\n",
       "    .dataframe tbody tr th {\n",
       "        vertical-align: top;\n",
       "    }\n",
       "\n",
       "    .dataframe thead th {\n",
       "        text-align: right;\n",
       "    }\n",
       "</style>\n",
       "<table border=\"1\" class=\"dataframe\">\n",
       "  <thead>\n",
       "    <tr style=\"text-align: right;\">\n",
       "      <th></th>\n",
       "      <th>y</th>\n",
       "      <th>x</th>\n",
       "      <th>x1</th>\n",
       "      <th>x2</th>\n",
       "    </tr>\n",
       "    <tr>\n",
       "      <th>Time</th>\n",
       "      <th></th>\n",
       "      <th></th>\n",
       "      <th></th>\n",
       "      <th></th>\n",
       "    </tr>\n",
       "  </thead>\n",
       "  <tbody>\n",
       "    <tr>\n",
       "      <th>100400</th>\n",
       "      <td>-5.300104</td>\n",
       "      <td>-1.085631</td>\n",
       "      <td>-0.070119</td>\n",
       "      <td>1.337158</td>\n",
       "    </tr>\n",
       "    <tr>\n",
       "      <th>100500</th>\n",
       "      <td>6.045849</td>\n",
       "      <td>0.997345</td>\n",
       "      <td>-0.070119</td>\n",
       "      <td>-4.160602</td>\n",
       "    </tr>\n",
       "    <tr>\n",
       "      <th>100600</th>\n",
       "      <td>-0.756578</td>\n",
       "      <td>0.282978</td>\n",
       "      <td>1.308417</td>\n",
       "      <td>-1.064912</td>\n",
       "    </tr>\n",
       "    <tr>\n",
       "      <th>100700</th>\n",
       "      <td>-7.153509</td>\n",
       "      <td>-1.506295</td>\n",
       "      <td>-0.070119</td>\n",
       "      <td>0.145608</td>\n",
       "    </tr>\n",
       "    <tr>\n",
       "      <th>100800</th>\n",
       "      <td>-2.715815</td>\n",
       "      <td>-0.578600</td>\n",
       "      <td>-0.070119</td>\n",
       "      <td>-0.413734</td>\n",
       "    </tr>\n",
       "    <tr>\n",
       "      <th>...</th>\n",
       "      <td>...</td>\n",
       "      <td>...</td>\n",
       "      <td>...</td>\n",
       "      <td>...</td>\n",
       "    </tr>\n",
       "    <tr>\n",
       "      <th>155500</th>\n",
       "      <td>-1.250348</td>\n",
       "      <td>-0.188297</td>\n",
       "      <td>-1.788132</td>\n",
       "      <td>0.077631</td>\n",
       "    </tr>\n",
       "    <tr>\n",
       "      <th>155600</th>\n",
       "      <td>-2.908612</td>\n",
       "      <td>-0.900009</td>\n",
       "      <td>-0.236489</td>\n",
       "      <td>0.009532</td>\n",
       "    </tr>\n",
       "    <tr>\n",
       "      <th>155700</th>\n",
       "      <td>-1.780848</td>\n",
       "      <td>-0.931002</td>\n",
       "      <td>-1.643033</td>\n",
       "      <td>0.236525</td>\n",
       "    </tr>\n",
       "    <tr>\n",
       "      <th>155800</th>\n",
       "      <td>-6.007513</td>\n",
       "      <td>-1.222737</td>\n",
       "      <td>-0.080157</td>\n",
       "      <td>-0.164391</td>\n",
       "    </tr>\n",
       "    <tr>\n",
       "      <th>155900</th>\n",
       "      <td>-2.122497</td>\n",
       "      <td>-0.393311</td>\n",
       "      <td>2.040883</td>\n",
       "      <td>0.029333</td>\n",
       "    </tr>\n",
       "  </tbody>\n",
       "</table>\n",
       "<p>356 rows × 4 columns</p>\n",
       "</div>"
      ],
      "text/plain": [
       "               y         x        x1        x2\n",
       "Time                                          \n",
       "100400 -5.300104 -1.085631 -0.070119  1.337158\n",
       "100500  6.045849  0.997345 -0.070119 -4.160602\n",
       "100600 -0.756578  0.282978  1.308417 -1.064912\n",
       "100700 -7.153509 -1.506295 -0.070119  0.145608\n",
       "100800 -2.715815 -0.578600 -0.070119 -0.413734\n",
       "...          ...       ...       ...       ...\n",
       "155500 -1.250348 -0.188297 -1.788132  0.077631\n",
       "155600 -2.908612 -0.900009 -0.236489  0.009532\n",
       "155700 -1.780848 -0.931002 -1.643033  0.236525\n",
       "155800 -6.007513 -1.222737 -0.080157 -0.164391\n",
       "155900 -2.122497 -0.393311  2.040883  0.029333\n",
       "\n",
       "[356 rows x 4 columns]"
      ]
     },
     "execution_count": 29,
     "metadata": {},
     "output_type": "execute_result"
    }
   ],
   "source": [
    "ols"
   ]
  },
  {
   "cell_type": "code",
   "execution_count": 30,
   "metadata": {},
   "outputs": [],
   "source": [
    "result = sm.ols(formula=\"y ~ x\", data=ols).fit()"
   ]
  },
  {
   "cell_type": "code",
   "execution_count": 31,
   "metadata": {},
   "outputs": [
    {
     "name": "stdout",
     "output_type": "stream",
     "text": [
      "                            OLS Regression Results                            \n",
      "==============================================================================\n",
      "Dep. Variable:                      y   R-squared:                       0.944\n",
      "Model:                            OLS   Adj. R-squared:                  0.943\n",
      "Method:                 Least Squares   F-statistic:                     5918.\n",
      "Date:                Thu, 23 Feb 2023   Prob (F-statistic):          4.72e-223\n",
      "Time:                        14:27:06   Log-Likelihood:                -501.61\n",
      "No. Observations:                 356   AIC:                             1007.\n",
      "Df Residuals:                     354   BIC:                             1015.\n",
      "Df Model:                           1                                         \n",
      "Covariance Type:            nonrobust                                         \n",
      "==============================================================================\n",
      "                 coef    std err          t      P>|t|      [0.025      0.975]\n",
      "------------------------------------------------------------------------------\n",
      "Intercept      0.0395      0.053      0.749      0.454      -0.064       0.143\n",
      "x              4.0457      0.053     76.928      0.000       3.942       4.149\n",
      "==============================================================================\n",
      "Omnibus:                        2.778   Durbin-Watson:                   1.993\n",
      "Prob(Omnibus):                  0.249   Jarque-Bera (JB):                2.660\n",
      "Skew:                          -0.153   Prob(JB):                        0.264\n",
      "Kurtosis:                       2.708   Cond. No.                         1.04\n",
      "==============================================================================\n",
      "\n",
      "Notes:\n",
      "[1] Standard Errors assume that the covariance matrix of the errors is correctly specified.\n"
     ]
    }
   ],
   "source": [
    "print(result.summary())"
   ]
  },
  {
   "cell_type": "code",
   "execution_count": 32,
   "metadata": {},
   "outputs": [
    {
     "data": {
      "text/plain": [
       "0.9435576240797289"
      ]
     },
     "execution_count": 32,
     "metadata": {},
     "output_type": "execute_result"
    }
   ],
   "source": [
    "result.rsquared"
   ]
  },
  {
   "cell_type": "code",
   "execution_count": 33,
   "metadata": {},
   "outputs": [
    {
     "data": {
      "text/plain": [
       "0.9433981823398411"
      ]
     },
     "execution_count": 33,
     "metadata": {},
     "output_type": "execute_result"
    }
   ],
   "source": [
    "result.rsquared_adj"
   ]
  },
  {
   "cell_type": "code",
   "execution_count": 34,
   "metadata": {},
   "outputs": [
    {
     "data": {
      "text/plain": [
       "0.9435576240797289"
      ]
     },
     "execution_count": 34,
     "metadata": {},
     "output_type": "execute_result"
    }
   ],
   "source": [
    "adjusted_Rsquared(result)"
   ]
  }
 ],
 "metadata": {
  "kernelspec": {
   "display_name": "Python 3",
   "language": "python",
   "name": "python3"
  },
  "language_info": {
   "codemirror_mode": {
    "name": "ipython",
    "version": 3
   },
   "file_extension": ".py",
   "mimetype": "text/x-python",
   "name": "python",
   "nbconvert_exporter": "python",
   "pygments_lexer": "ipython3",
   "version": "3.10.2"
  },
  "orig_nbformat": 4,
  "vscode": {
   "interpreter": {
    "hash": "c63d8c7d738c2960218a10995aedf0a7f67a49a231e71037adf0440953cdb45b"
   }
  }
 },
 "nbformat": 4,
 "nbformat_minor": 2
}
